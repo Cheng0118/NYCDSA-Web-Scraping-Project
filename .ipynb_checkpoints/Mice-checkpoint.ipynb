{
 "cells": [
  {
   "cell_type": "markdown",
   "metadata": {},
   "source": [
    "<p><a name=\"sections\"></a></p>\n",
    "\n",
    "\n",
    "# Gaming Mice in Newegg\n",
    "\n",
    "- <a href=\"#DP\">Data Processing</a><br>\n",
    "- <a href=\"#GA\">General Analysis</a><br>\n",
    "- <a href=\"#FP\">Factors Contributing to Price</a><br>\n",
    "- <a href=\"#FR\">Factors Contributing to Reviews</a><br>\n"
   ]
  },
  {
   "cell_type": "markdown",
   "metadata": {},
   "source": [
    "<p><a name=\"DP\"></a></p>\n",
    "\n",
    "### Data Processing\n",
    "\n",
    "The data was scraped from newegg. The specific mice looked at are new, right-handed gaming mice that ship from the U.S. \n",
    "\n",
    "The fields scraped include:\n",
    "- Brand\n",
    "- Product Name\n",
    "- Model\n",
    "- Grip Style\n",
    "- Maximum DPI\n",
    "- Buttons\n",
    "- Connection Type\n",
    "- Color\n",
    "- Average Review Rating (1-5 Stars to the nearest star)\n",
    "- Number of Reviews\n",
    "- Price"
   ]
  },
  {
   "cell_type": "code",
   "execution_count": 1,
   "metadata": {},
   "outputs": [
    {
     "data": {
      "text/html": [
       "<div>\n",
       "<style scoped>\n",
       "    .dataframe tbody tr th:only-of-type {\n",
       "        vertical-align: middle;\n",
       "    }\n",
       "\n",
       "    .dataframe tbody tr th {\n",
       "        vertical-align: top;\n",
       "    }\n",
       "\n",
       "    .dataframe thead th {\n",
       "        text-align: right;\n",
       "    }\n",
       "</style>\n",
       "<table border=\"1\" class=\"dataframe\">\n",
       "  <thead>\n",
       "    <tr style=\"text-align: right;\">\n",
       "      <th></th>\n",
       "      <th>Brand</th>\n",
       "      <th>Name</th>\n",
       "      <th>Model</th>\n",
       "      <th>Style</th>\n",
       "      <th>DPI</th>\n",
       "      <th>Buttons</th>\n",
       "      <th>Connection</th>\n",
       "      <th>Color</th>\n",
       "      <th>Rating</th>\n",
       "      <th>Reviews</th>\n",
       "      <th>Price</th>\n",
       "    </tr>\n",
       "  </thead>\n",
       "  <tbody>\n",
       "    <tr>\n",
       "      <th>0</th>\n",
       "      <td>Corsair</td>\n",
       "      <td>HARPOON</td>\n",
       "      <td>CH-9311011-NA</td>\n",
       "      <td>Claw</td>\n",
       "      <td>10000 dpi</td>\n",
       "      <td>6</td>\n",
       "      <td>Wired / Wireless</td>\n",
       "      <td>Black</td>\n",
       "      <td>4.0</td>\n",
       "      <td>83</td>\n",
       "      <td>49.99</td>\n",
       "    </tr>\n",
       "    <tr>\n",
       "      <th>1</th>\n",
       "      <td>UtechSmart</td>\n",
       "      <td>Venus</td>\n",
       "      <td>US-D16400-GM</td>\n",
       "      <td>NaN</td>\n",
       "      <td>16400 dpi</td>\n",
       "      <td>19</td>\n",
       "      <td>Wired</td>\n",
       "      <td>Black</td>\n",
       "      <td>4.0</td>\n",
       "      <td>242</td>\n",
       "      <td>29.99</td>\n",
       "    </tr>\n",
       "    <tr>\n",
       "      <th>2</th>\n",
       "      <td>Sades</td>\n",
       "      <td>NaN</td>\n",
       "      <td>NaN</td>\n",
       "      <td>Palm</td>\n",
       "      <td>3200dpi</td>\n",
       "      <td>6</td>\n",
       "      <td>Wired</td>\n",
       "      <td>Pink</td>\n",
       "      <td>4.0</td>\n",
       "      <td>4</td>\n",
       "      <td>18.49</td>\n",
       "    </tr>\n",
       "    <tr>\n",
       "      <th>3</th>\n",
       "      <td>AULA</td>\n",
       "      <td>Wired Gaming Mouse</td>\n",
       "      <td>F805</td>\n",
       "      <td>NaN</td>\n",
       "      <td>6400 dpi</td>\n",
       "      <td>7</td>\n",
       "      <td>Wired</td>\n",
       "      <td>Black</td>\n",
       "      <td>4.0</td>\n",
       "      <td>2</td>\n",
       "      <td>14.99</td>\n",
       "    </tr>\n",
       "    <tr>\n",
       "      <th>4</th>\n",
       "      <td>RAZER</td>\n",
       "      <td>DeathAdder Elite</td>\n",
       "      <td>RZ01-02010100-R3U1</td>\n",
       "      <td>NaN</td>\n",
       "      <td>16000 dpi</td>\n",
       "      <td>7</td>\n",
       "      <td>Wired</td>\n",
       "      <td>Black</td>\n",
       "      <td>4.0</td>\n",
       "      <td>642</td>\n",
       "      <td>30.99</td>\n",
       "    </tr>\n",
       "  </tbody>\n",
       "</table>\n",
       "</div>"
      ],
      "text/plain": [
       "        Brand                Name               Model Style        DPI  \\\n",
       "0     Corsair             HARPOON       CH-9311011-NA  Claw  10000 dpi   \n",
       "1  UtechSmart               Venus        US-D16400-GM   NaN  16400 dpi   \n",
       "2       Sades                 NaN                 NaN  Palm    3200dpi   \n",
       "3        AULA  Wired Gaming Mouse                F805   NaN   6400 dpi   \n",
       "4       RAZER    DeathAdder Elite  RZ01-02010100-R3U1   NaN  16000 dpi   \n",
       "\n",
       "  Buttons        Connection  Color  Rating  Reviews  Price  \n",
       "0       6  Wired / Wireless  Black     4.0       83  49.99  \n",
       "1      19             Wired  Black     4.0      242  29.99  \n",
       "2       6             Wired   Pink     4.0        4  18.49  \n",
       "3       7             Wired  Black     4.0        2  14.99  \n",
       "4       7             Wired  Black     4.0      642  30.99  "
      ]
     },
     "execution_count": 1,
     "metadata": {},
     "output_type": "execute_result"
    }
   ],
   "source": [
    "import numpy as np\n",
    "import pandas as pd\n",
    "\n",
    "# Read in csv\n",
    "mice = pd.read_csv('./mice/mice.csv')\n",
    "\n",
    "# Rearrange and rename columns\n",
    "mice = mice[['brand', 'name', 'model', 'style', 'dpi', 'buttons', 'ctype', 'color', 'rating', 'reviews', 'price']]\n",
    "mice.columns = ['Brand', 'Name', 'Model', 'Style', 'DPI', 'Buttons', 'Connection', 'Color', 'Rating', 'Reviews', 'Price']\n",
    "mice.head()"
   ]
  },
  {
   "cell_type": "markdown",
   "metadata": {},
   "source": [
    "**Brand**\n",
    "- Will capitalize the Brand to reduce inconsistencies.\n",
    "- Check items that do not make sense.\n",
    "\n",
    "**Grip Style**\n",
    "- Will convert instances of more than one and \"All\" to \"Multiple\".\n",
    "- Check items that do not make sense.\n",
    "\n",
    "**Maximum DPI**\n",
    "- Check items that do not make sense.\n",
    "- Convert to int.\n",
    "\n",
    "**Buttons**\n",
    "- Check items that do not make sense.\n",
    "\n",
    "**Connection Type**\n",
    "- Will only differentiate between wire or wireless."
   ]
  },
  {
   "cell_type": "code",
   "execution_count": 2,
   "metadata": {},
   "outputs": [],
   "source": [
    "# Brand\n",
    "mice['Brand'] = mice['Brand'].str.upper()\n",
    "mice.loc[(mice.Brand == 'FREE WORF'),'Brand']='FREE WOLF'"
   ]
  },
  {
   "cell_type": "code",
   "execution_count": 3,
   "metadata": {},
   "outputs": [],
   "source": [
    "# Style\n",
    "mice['Style'] = mice['Style'].str.replace('Grip','')\n",
    "mice.loc[(mice['Style'].str.contains('brand', na=False)),'Style']=np.nan\n",
    "mice.loc[((mice.Style == 'All') | (mice.Style.str.contains('/| and | or |,')) | (mice.Style == 'Adjustable')),'Style']='Multiple'"
   ]
  },
  {
   "cell_type": "code",
   "execution_count": 4,
   "metadata": {},
   "outputs": [],
   "source": [
    "# DPI\n",
    "mice.loc[(mice['DPI'].str.contains('200-', na=False)),'DPI']='10000'\n",
    "mice.loc[(mice['DPI'].str.contains('50~', na=False)),'DPI']='6400'\n",
    "mice.loc[(mice['DPI'].str.contains('Pixart', na=False)),'DPI']='16000'\n",
    "mice['DPI'] = mice['DPI'].str.extract('(\\d+)')\n",
    "mice.loc[mice['DPI'].notnull(), 'DPI'] = mice.loc[mice['DPI'].notnull(), 'DPI'].astype(int)"
   ]
  },
  {
   "cell_type": "code",
   "execution_count": 5,
   "metadata": {},
   "outputs": [],
   "source": [
    "# Buttons\n",
    "mice.loc[(mice['Buttons'].str.contains('digital', na=False)),'Buttons']='9'\n",
    "mice.loc[(mice['Buttons'].str.contains('programmable buttons', na=False)),'Buttons']='6'\n",
    "mice.loc[(mice['Buttons'].str.contains('8 programmable', na=False)),'Buttons']='9'\n",
    "mice.loc[(mice['Buttons'].str.contains('OMRON', na=False)),'Buttons']='5'\n",
    "mice.loc[mice['Buttons'].notnull(), 'Buttons'] = mice.loc[mice['Buttons'].notnull(), 'Buttons'].astype(int)"
   ]
  },
  {
   "cell_type": "code",
   "execution_count": 6,
   "metadata": {},
   "outputs": [],
   "source": [
    "# Connection Type\n",
    "mice.loc[(mice.Connection.str.contains('wireless|Wireless', na=False)),'Connection']='Wireless'"
   ]
  },
  {
   "cell_type": "code",
   "execution_count": 7,
   "metadata": {},
   "outputs": [],
   "source": [
    "mice.to_csv(r'./mice/mice_modified.csv')"
   ]
  },
  {
   "cell_type": "markdown",
   "metadata": {},
   "source": [
    "### Things to Note\n",
    "\n",
    "Rating is to the nearest star, not very good resolution.\n",
    "\n",
    "Information can be incorrect.\n",
    "\n",
    "Significant factors not looked at in project:\n",
    "- One of the biggest contributing factors is most likely RGB, but difficult to extract whether or not product has and was not included in project.\n",
    "- Aesthetics. More \"gamer\" or futuristic aesthetics vs basic or more sleek designs. Secondary color.\n",
    "- Ergonomics/type of the mouse. For example there are mice that are vertical or are in the form factor of a gun.\n",
    "- Weight adjustability."
   ]
  }
 ],
 "metadata": {
  "kernelspec": {
   "display_name": "Python 3",
   "language": "python",
   "name": "python3"
  },
  "language_info": {
   "codemirror_mode": {
    "name": "ipython",
    "version": 3
   },
   "file_extension": ".py",
   "mimetype": "text/x-python",
   "name": "python",
   "nbconvert_exporter": "python",
   "pygments_lexer": "ipython3",
   "version": "3.8.3"
  }
 },
 "nbformat": 4,
 "nbformat_minor": 4
}
