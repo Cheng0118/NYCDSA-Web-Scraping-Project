{
 "cells": [
  {
   "cell_type": "markdown",
   "metadata": {},
   "source": [
    "<p><a name=\"sections\"></a></p>\n",
    "\n",
    "\n",
    "# Gaming Mice in Newegg\n",
    "\n",
    "- <a href=\"#DP\">Data Processing</a><br>\n",
    "- <a href=\"#GA\">General Analysis</a><br>\n",
    "- <a href=\"#FP\">Factors Contributing to Price</a><br>\n",
    "- <a href=\"#FR\">Factors Contributing to Rating</a><br>\n",
    "- <a href=\"#CM\">Correlation Matrix</a><br>"
   ]
  },
  {
   "cell_type": "markdown",
   "metadata": {},
   "source": [
    "<p><a name=\"DP\"></a></p>\n",
    "\n",
    "### Data Processing\n",
    "\n",
    "The data was scraped from newegg. The specific mice looked at are new, right-handed gaming mice that ship from the U.S. \n",
    "\n",
    "The fields scraped include:\n",
    "- Brand\n",
    "- Product Name\n",
    "- Model\n",
    "- Grip Style\n",
    "- Maximum DPI\n",
    "- Buttons\n",
    "- Connection Type\n",
    "- Color\n",
    "- Average Review Rating (1-5 Stars to the nearest star)\n",
    "- Number of Reviews\n",
    "- Price"
   ]
  },
  {
   "cell_type": "code",
   "execution_count": 1,
   "metadata": {},
   "outputs": [
    {
     "data": {
      "text/html": [
       "<div>\n",
       "<style scoped>\n",
       "    .dataframe tbody tr th:only-of-type {\n",
       "        vertical-align: middle;\n",
       "    }\n",
       "\n",
       "    .dataframe tbody tr th {\n",
       "        vertical-align: top;\n",
       "    }\n",
       "\n",
       "    .dataframe thead th {\n",
       "        text-align: right;\n",
       "    }\n",
       "</style>\n",
       "<table border=\"1\" class=\"dataframe\">\n",
       "  <thead>\n",
       "    <tr style=\"text-align: right;\">\n",
       "      <th></th>\n",
       "      <th>Brand</th>\n",
       "      <th>Name</th>\n",
       "      <th>Model</th>\n",
       "      <th>Style</th>\n",
       "      <th>DPI</th>\n",
       "      <th>Buttons</th>\n",
       "      <th>Connection</th>\n",
       "      <th>Color</th>\n",
       "      <th>Rating</th>\n",
       "      <th>Reviews</th>\n",
       "      <th>Price</th>\n",
       "    </tr>\n",
       "  </thead>\n",
       "  <tbody>\n",
       "    <tr>\n",
       "      <th>0</th>\n",
       "      <td>Corsair</td>\n",
       "      <td>HARPOON</td>\n",
       "      <td>CH-9311011-NA</td>\n",
       "      <td>Claw</td>\n",
       "      <td>10000 dpi</td>\n",
       "      <td>6</td>\n",
       "      <td>Wired / Wireless</td>\n",
       "      <td>Black</td>\n",
       "      <td>4.0</td>\n",
       "      <td>83</td>\n",
       "      <td>49.99</td>\n",
       "    </tr>\n",
       "    <tr>\n",
       "      <th>1</th>\n",
       "      <td>UtechSmart</td>\n",
       "      <td>Venus</td>\n",
       "      <td>US-D16400-GM</td>\n",
       "      <td>NaN</td>\n",
       "      <td>16400 dpi</td>\n",
       "      <td>19</td>\n",
       "      <td>Wired</td>\n",
       "      <td>Black</td>\n",
       "      <td>4.0</td>\n",
       "      <td>242</td>\n",
       "      <td>29.99</td>\n",
       "    </tr>\n",
       "    <tr>\n",
       "      <th>2</th>\n",
       "      <td>Sades</td>\n",
       "      <td>NaN</td>\n",
       "      <td>NaN</td>\n",
       "      <td>Palm</td>\n",
       "      <td>3200dpi</td>\n",
       "      <td>6</td>\n",
       "      <td>Wired</td>\n",
       "      <td>Pink</td>\n",
       "      <td>4.0</td>\n",
       "      <td>4</td>\n",
       "      <td>18.49</td>\n",
       "    </tr>\n",
       "    <tr>\n",
       "      <th>3</th>\n",
       "      <td>AULA</td>\n",
       "      <td>Wired Gaming Mouse</td>\n",
       "      <td>F805</td>\n",
       "      <td>NaN</td>\n",
       "      <td>6400 dpi</td>\n",
       "      <td>7</td>\n",
       "      <td>Wired</td>\n",
       "      <td>Black</td>\n",
       "      <td>4.0</td>\n",
       "      <td>2</td>\n",
       "      <td>14.99</td>\n",
       "    </tr>\n",
       "    <tr>\n",
       "      <th>4</th>\n",
       "      <td>RAZER</td>\n",
       "      <td>DeathAdder Elite</td>\n",
       "      <td>RZ01-02010100-R3U1</td>\n",
       "      <td>NaN</td>\n",
       "      <td>16000 dpi</td>\n",
       "      <td>7</td>\n",
       "      <td>Wired</td>\n",
       "      <td>Black</td>\n",
       "      <td>4.0</td>\n",
       "      <td>642</td>\n",
       "      <td>30.99</td>\n",
       "    </tr>\n",
       "  </tbody>\n",
       "</table>\n",
       "</div>"
      ],
      "text/plain": [
       "        Brand                Name               Model Style        DPI  \\\n",
       "0     Corsair             HARPOON       CH-9311011-NA  Claw  10000 dpi   \n",
       "1  UtechSmart               Venus        US-D16400-GM   NaN  16400 dpi   \n",
       "2       Sades                 NaN                 NaN  Palm    3200dpi   \n",
       "3        AULA  Wired Gaming Mouse                F805   NaN   6400 dpi   \n",
       "4       RAZER    DeathAdder Elite  RZ01-02010100-R3U1   NaN  16000 dpi   \n",
       "\n",
       "  Buttons        Connection  Color  Rating  Reviews  Price  \n",
       "0       6  Wired / Wireless  Black     4.0       83  49.99  \n",
       "1      19             Wired  Black     4.0      242  29.99  \n",
       "2       6             Wired   Pink     4.0        4  18.49  \n",
       "3       7             Wired  Black     4.0        2  14.99  \n",
       "4       7             Wired  Black     4.0      642  30.99  "
      ]
     },
     "execution_count": 1,
     "metadata": {},
     "output_type": "execute_result"
    }
   ],
   "source": [
    "%matplotlib inline\n",
    "\n",
    "import numpy as np\n",
    "import pandas as pd\n",
    "from matplotlib import pyplot as plt\n",
    "plt.style.use('ggplot')\n",
    "import seaborn as sns\n",
    "\n",
    "# Read in csv\n",
    "mice = pd.read_csv('./mice/mice.csv')\n",
    "\n",
    "# Rearrange and rename columns\n",
    "mice = mice[['brand', 'name', 'model', 'style', 'dpi', 'buttons', 'ctype', 'color', 'rating', 'reviews', 'price']]\n",
    "mice.columns = ['Brand', 'Name', 'Model', 'Style', 'DPI', 'Buttons', 'Connection', 'Color', 'Rating', 'Reviews', 'Price']\n",
    "mice.head()"
   ]
  },
  {
   "cell_type": "markdown",
   "metadata": {},
   "source": [
    "**Brand**\n",
    "- Will capitalize the Brand to reduce inconsistencies.\n",
    "- Check items that do not make sense.\n",
    "\n",
    "**Grip Style**\n",
    "- Will convert instances of more than one and \"All\" to \"Multiple\".\n",
    "- Check items that do not make sense.\n",
    "\n",
    "**Maximum DPI**\n",
    "- Check items that do not make sense.\n",
    "- Convert to int.\n",
    "\n",
    "**Buttons**\n",
    "- Check items that do not make sense.\n",
    "\n",
    "**Connection Type**\n",
    "- Will only differentiate between wire or wireless."
   ]
  },
  {
   "cell_type": "code",
   "execution_count": 2,
   "metadata": {},
   "outputs": [],
   "source": [
    "# Brand\n",
    "mice['Brand'] = mice['Brand'].str.upper()\n",
    "mice.loc[(mice.Brand == 'FREE WORF'),'Brand']='FREE WOLF'"
   ]
  },
  {
   "cell_type": "code",
   "execution_count": 3,
   "metadata": {},
   "outputs": [],
   "source": [
    "# Style\n",
    "mice['Style'] = mice['Style'].str.replace('Grip','')\n",
    "mice.loc[(mice['Style'].str.contains('brand', na=False)),'Style']=np.nan\n",
    "mice.loc[((mice.Style == 'All') | (mice.Style.str.contains('/| and | or |,')) | (mice.Style == 'Adjustable')),'Style']='Multiple'"
   ]
  },
  {
   "cell_type": "code",
   "execution_count": 4,
   "metadata": {},
   "outputs": [],
   "source": [
    "# DPI\n",
    "mice.loc[(mice['DPI'].str.contains('200-', na=False)),'DPI']='10000'\n",
    "mice.loc[(mice['DPI'].str.contains('50~', na=False)),'DPI']='6400'\n",
    "mice.loc[(mice['DPI'].str.contains('Pixart', na=False)),'DPI']='16000'\n",
    "mice['DPI'] = mice['DPI'].str.extract('(\\d+)')\n",
    "mice.loc[mice['DPI'].notnull(), 'DPI'] = mice.loc[mice['DPI'].notnull(), 'DPI'].astype(int)"
   ]
  },
  {
   "cell_type": "code",
   "execution_count": 5,
   "metadata": {},
   "outputs": [],
   "source": [
    "# Buttons\n",
    "mice.loc[(mice['Buttons'].str.contains('digital', na=False)),'Buttons']='9'\n",
    "mice.loc[(mice['Buttons'].str.contains('programmable buttons', na=False)),'Buttons']='6'\n",
    "mice.loc[(mice['Buttons'].str.contains('8 programmable', na=False)),'Buttons']='9'\n",
    "mice.loc[(mice['Buttons'].str.contains('OMRON', na=False)),'Buttons']='5'\n",
    "mice.loc[mice['Buttons'].notnull(), 'Buttons'] = mice.loc[mice['Buttons'].notnull(), 'Buttons'].astype(int)"
   ]
  },
  {
   "cell_type": "code",
   "execution_count": 6,
   "metadata": {},
   "outputs": [],
   "source": [
    "# Connection Type\n",
    "mice.loc[(mice.Connection.str.contains('wireless|Wireless', na=False)),'Connection']='Wireless'"
   ]
  },
  {
   "cell_type": "code",
   "execution_count": 7,
   "metadata": {},
   "outputs": [],
   "source": [
    "# Save to new file and load.\n",
    "mice.to_csv(r'./mice/mice_modified.csv', index = False)\n",
    "mice = pd.read_csv('./mice/mice_modified.csv')"
   ]
  },
  {
   "cell_type": "code",
   "execution_count": 8,
   "metadata": {},
   "outputs": [
    {
     "data": {
      "text/html": [
       "<div>\n",
       "<style scoped>\n",
       "    .dataframe tbody tr th:only-of-type {\n",
       "        vertical-align: middle;\n",
       "    }\n",
       "\n",
       "    .dataframe tbody tr th {\n",
       "        vertical-align: top;\n",
       "    }\n",
       "\n",
       "    .dataframe thead th {\n",
       "        text-align: right;\n",
       "    }\n",
       "</style>\n",
       "<table border=\"1\" class=\"dataframe\">\n",
       "  <thead>\n",
       "    <tr style=\"text-align: right;\">\n",
       "      <th></th>\n",
       "      <th>Brand</th>\n",
       "      <th>Name</th>\n",
       "      <th>Model</th>\n",
       "      <th>Style</th>\n",
       "      <th>DPI</th>\n",
       "      <th>Buttons</th>\n",
       "      <th>Connection</th>\n",
       "      <th>Color</th>\n",
       "      <th>Rating</th>\n",
       "      <th>Reviews</th>\n",
       "      <th>Price</th>\n",
       "    </tr>\n",
       "  </thead>\n",
       "  <tbody>\n",
       "    <tr>\n",
       "      <th>0</th>\n",
       "      <td>CORSAIR</td>\n",
       "      <td>HARPOON</td>\n",
       "      <td>CH-9311011-NA</td>\n",
       "      <td>Claw</td>\n",
       "      <td>10000.0</td>\n",
       "      <td>6.0</td>\n",
       "      <td>Wireless</td>\n",
       "      <td>Black</td>\n",
       "      <td>4.0</td>\n",
       "      <td>83</td>\n",
       "      <td>49.99</td>\n",
       "    </tr>\n",
       "    <tr>\n",
       "      <th>1</th>\n",
       "      <td>UTECHSMART</td>\n",
       "      <td>Venus</td>\n",
       "      <td>US-D16400-GM</td>\n",
       "      <td>NaN</td>\n",
       "      <td>16400.0</td>\n",
       "      <td>19.0</td>\n",
       "      <td>Wired</td>\n",
       "      <td>Black</td>\n",
       "      <td>4.0</td>\n",
       "      <td>242</td>\n",
       "      <td>29.99</td>\n",
       "    </tr>\n",
       "    <tr>\n",
       "      <th>2</th>\n",
       "      <td>SADES</td>\n",
       "      <td>NaN</td>\n",
       "      <td>NaN</td>\n",
       "      <td>Palm</td>\n",
       "      <td>3200.0</td>\n",
       "      <td>6.0</td>\n",
       "      <td>Wired</td>\n",
       "      <td>Pink</td>\n",
       "      <td>4.0</td>\n",
       "      <td>4</td>\n",
       "      <td>18.49</td>\n",
       "    </tr>\n",
       "    <tr>\n",
       "      <th>3</th>\n",
       "      <td>AULA</td>\n",
       "      <td>Wired Gaming Mouse</td>\n",
       "      <td>F805</td>\n",
       "      <td>NaN</td>\n",
       "      <td>6400.0</td>\n",
       "      <td>7.0</td>\n",
       "      <td>Wired</td>\n",
       "      <td>Black</td>\n",
       "      <td>4.0</td>\n",
       "      <td>2</td>\n",
       "      <td>14.99</td>\n",
       "    </tr>\n",
       "    <tr>\n",
       "      <th>4</th>\n",
       "      <td>RAZER</td>\n",
       "      <td>DeathAdder Elite</td>\n",
       "      <td>RZ01-02010100-R3U1</td>\n",
       "      <td>NaN</td>\n",
       "      <td>16000.0</td>\n",
       "      <td>7.0</td>\n",
       "      <td>Wired</td>\n",
       "      <td>Black</td>\n",
       "      <td>4.0</td>\n",
       "      <td>642</td>\n",
       "      <td>30.99</td>\n",
       "    </tr>\n",
       "  </tbody>\n",
       "</table>\n",
       "</div>"
      ],
      "text/plain": [
       "        Brand                Name               Model Style      DPI  Buttons  \\\n",
       "0     CORSAIR             HARPOON       CH-9311011-NA  Claw  10000.0      6.0   \n",
       "1  UTECHSMART               Venus        US-D16400-GM   NaN  16400.0     19.0   \n",
       "2       SADES                 NaN                 NaN  Palm   3200.0      6.0   \n",
       "3        AULA  Wired Gaming Mouse                F805   NaN   6400.0      7.0   \n",
       "4       RAZER    DeathAdder Elite  RZ01-02010100-R3U1   NaN  16000.0      7.0   \n",
       "\n",
       "  Connection  Color  Rating  Reviews  Price  \n",
       "0   Wireless  Black     4.0       83  49.99  \n",
       "1      Wired  Black     4.0      242  29.99  \n",
       "2      Wired   Pink     4.0        4  18.49  \n",
       "3      Wired  Black     4.0        2  14.99  \n",
       "4      Wired  Black     4.0      642  30.99  "
      ]
     },
     "execution_count": 8,
     "metadata": {},
     "output_type": "execute_result"
    }
   ],
   "source": [
    "mice.head()"
   ]
  },
  {
   "cell_type": "markdown",
   "metadata": {},
   "source": [
    "<p><a name=\"GA\"></a></p>\n",
    "\n",
    "### General Analysis"
   ]
  },
  {
   "cell_type": "markdown",
   "metadata": {},
   "source": [
    "**Brand**\n",
    "\n",
    "Obervations:\n",
    "- The brand with the highest number of products is not very well known and only has products in the lower price range. 5 out of the top 10 brands with the most products only produces lower price range mice, with the max price for each product not exceeding 40 dollars and median price for all products not exceeding 30 dollars.\n",
    "- Only 5 out of the top 10 brands with the most products have more than 100 total number of reviews, indicating that having more products does not necessarily mean more popularity amongst customers.\n",
    "- The top 10 brands with the most reviews, with the exception of 2, all have a mean rating of around 4 stars and a median of 4 stars. This suggests that the products from the 8 brands are all generally consistently good quality and no brand is noticeably disliked more than another.\n",
    "- The one brand out of the top 10 brands with the most reviews that seems like outlier, \"ZALMAN\", is an interesting case since it only has 1 product which has 170 reviews by itself and has a mean and median rating of only 3 stars. The mouse is actually a \"Gun Mouse\" which likely explains why it stands out. "
   ]
  },
  {
   "cell_type": "code",
   "execution_count": 9,
   "metadata": {},
   "outputs": [
    {
     "name": "stdout",
     "output_type": "stream",
     "text": [
      "            Brand    Rating        Reviews  Price                 \n",
      "             size      mean median     sum    min     max   median\n",
      "Brand                                                             \n",
      "ZELOTES        30  3.900000    4.5      88  11.99   28.99   14.990\n",
      "CORSAIR        24  3.882353    4.0    1290  29.99  128.33   79.990\n",
      "LOGITECH       22  4.181818    4.0    2522  39.88  199.99   95.375\n",
      "RAZER          18  3.875000    4.0    5827  25.46  236.99   79.990\n",
      "IMICE          17       NaN    NaN       0  13.99   23.99   14.990\n",
      "STEELSERIES    11  4.333333    4.0     390  39.75  213.00  107.990\n",
      "LUOM           11  5.000000    5.0      12  13.99   14.99   13.990\n",
      "GLORIOUS       11  4.300000    4.0     100  78.99  145.99   81.990\n",
      "AULA           10  4.000000    4.0       2  14.99   39.99   25.490\n",
      "RAJFOO         10       NaN    NaN       0  16.99   18.99   18.990\n",
      "\n",
      "\n",
      "\n",
      "            Brand    Rating        Reviews   Price                 \n",
      "             size      mean median     sum     min     max   median\n",
      "Brand                                                              \n",
      "RAZER          18  3.875000    4.0    5827   25.46  236.99   79.990\n",
      "LOGITECH       22  4.181818    4.0    2522   39.88  199.99   95.375\n",
      "CORSAIR        24  3.882353    4.0    1290   29.99  128.33   79.990\n",
      "ROSEWILL        4  4.000000    4.0     828   15.99   20.99   19.490\n",
      "UTECHSMART      4  4.500000    4.5     492   29.99   49.99   39.990\n",
      "STEELSERIES    11  4.333333    4.0     390   39.75  213.00  107.990\n",
      "ASUS            9  4.142857    4.0     332   31.99  159.99   95.990\n",
      "ZALMAN          1  3.000000    3.0     170  149.98  149.98  149.980\n",
      "MIONIX          4  4.000000    4.0     138   51.00  165.99   84.990\n",
      "MAD CATZ        5  4.000000    4.0     104   45.99   86.78   52.350\n"
     ]
    }
   ],
   "source": [
    "colFun = {'Brand':['size'],\n",
    "          'Rating': ['mean', 'median'], \n",
    "          'Reviews': ['sum'],\n",
    "          'Price':['min','max', 'median']}\n",
    "\n",
    "mice_brand = mice.groupby('Brand').agg(colFun)\n",
    "mice_brand_product = mice_brand.sort_values(by=[('Brand', 'size')], ascending = False).head(10)\n",
    "mice_brand_reviews = mice_brand.sort_values(by=[('Reviews', 'sum')], ascending = False).head(10)\n",
    "\n",
    "print(mice_brand_product)\n",
    "print('\\n' * 2)\n",
    "print(mice_brand_reviews)"
   ]
  },
  {
   "cell_type": "code",
   "execution_count": 10,
   "metadata": {},
   "outputs": [
    {
     "data": {
      "text/html": [
       "<div>\n",
       "<style scoped>\n",
       "    .dataframe tbody tr th:only-of-type {\n",
       "        vertical-align: middle;\n",
       "    }\n",
       "\n",
       "    .dataframe tbody tr th {\n",
       "        vertical-align: top;\n",
       "    }\n",
       "\n",
       "    .dataframe thead tr th {\n",
       "        text-align: left;\n",
       "    }\n",
       "\n",
       "    .dataframe thead tr:last-of-type th {\n",
       "        text-align: right;\n",
       "    }\n",
       "</style>\n",
       "<table border=\"1\" class=\"dataframe\">\n",
       "  <thead>\n",
       "    <tr>\n",
       "      <th></th>\n",
       "      <th>Brand</th>\n",
       "      <th colspan=\"2\" halign=\"left\">Rating</th>\n",
       "      <th>Reviews</th>\n",
       "      <th colspan=\"3\" halign=\"left\">Price</th>\n",
       "    </tr>\n",
       "    <tr>\n",
       "      <th></th>\n",
       "      <th>size</th>\n",
       "      <th>mean</th>\n",
       "      <th>median</th>\n",
       "      <th>sum</th>\n",
       "      <th>min</th>\n",
       "      <th>max</th>\n",
       "      <th>median</th>\n",
       "    </tr>\n",
       "    <tr>\n",
       "      <th>Brand</th>\n",
       "      <th></th>\n",
       "      <th></th>\n",
       "      <th></th>\n",
       "      <th></th>\n",
       "      <th></th>\n",
       "      <th></th>\n",
       "      <th></th>\n",
       "    </tr>\n",
       "  </thead>\n",
       "  <tbody>\n",
       "    <tr>\n",
       "      <th>RAZER</th>\n",
       "      <td>18</td>\n",
       "      <td>3.875000</td>\n",
       "      <td>4.0</td>\n",
       "      <td>5827</td>\n",
       "      <td>25.46</td>\n",
       "      <td>236.99</td>\n",
       "      <td>79.990</td>\n",
       "    </tr>\n",
       "    <tr>\n",
       "      <th>LOGITECH</th>\n",
       "      <td>22</td>\n",
       "      <td>4.181818</td>\n",
       "      <td>4.0</td>\n",
       "      <td>2522</td>\n",
       "      <td>39.88</td>\n",
       "      <td>199.99</td>\n",
       "      <td>95.375</td>\n",
       "    </tr>\n",
       "    <tr>\n",
       "      <th>CORSAIR</th>\n",
       "      <td>24</td>\n",
       "      <td>3.882353</td>\n",
       "      <td>4.0</td>\n",
       "      <td>1290</td>\n",
       "      <td>29.99</td>\n",
       "      <td>128.33</td>\n",
       "      <td>79.990</td>\n",
       "    </tr>\n",
       "    <tr>\n",
       "      <th>ROSEWILL</th>\n",
       "      <td>4</td>\n",
       "      <td>4.000000</td>\n",
       "      <td>4.0</td>\n",
       "      <td>828</td>\n",
       "      <td>15.99</td>\n",
       "      <td>20.99</td>\n",
       "      <td>19.490</td>\n",
       "    </tr>\n",
       "    <tr>\n",
       "      <th>UTECHSMART</th>\n",
       "      <td>4</td>\n",
       "      <td>4.500000</td>\n",
       "      <td>4.5</td>\n",
       "      <td>492</td>\n",
       "      <td>29.99</td>\n",
       "      <td>49.99</td>\n",
       "      <td>39.990</td>\n",
       "    </tr>\n",
       "    <tr>\n",
       "      <th>STEELSERIES</th>\n",
       "      <td>11</td>\n",
       "      <td>4.333333</td>\n",
       "      <td>4.0</td>\n",
       "      <td>390</td>\n",
       "      <td>39.75</td>\n",
       "      <td>213.00</td>\n",
       "      <td>107.990</td>\n",
       "    </tr>\n",
       "    <tr>\n",
       "      <th>ASUS</th>\n",
       "      <td>9</td>\n",
       "      <td>4.142857</td>\n",
       "      <td>4.0</td>\n",
       "      <td>332</td>\n",
       "      <td>31.99</td>\n",
       "      <td>159.99</td>\n",
       "      <td>95.990</td>\n",
       "    </tr>\n",
       "    <tr>\n",
       "      <th>ZALMAN</th>\n",
       "      <td>1</td>\n",
       "      <td>3.000000</td>\n",
       "      <td>3.0</td>\n",
       "      <td>170</td>\n",
       "      <td>149.98</td>\n",
       "      <td>149.98</td>\n",
       "      <td>149.980</td>\n",
       "    </tr>\n",
       "    <tr>\n",
       "      <th>MIONIX</th>\n",
       "      <td>4</td>\n",
       "      <td>4.000000</td>\n",
       "      <td>4.0</td>\n",
       "      <td>138</td>\n",
       "      <td>51.00</td>\n",
       "      <td>165.99</td>\n",
       "      <td>84.990</td>\n",
       "    </tr>\n",
       "    <tr>\n",
       "      <th>MAD CATZ</th>\n",
       "      <td>5</td>\n",
       "      <td>4.000000</td>\n",
       "      <td>4.0</td>\n",
       "      <td>104</td>\n",
       "      <td>45.99</td>\n",
       "      <td>86.78</td>\n",
       "      <td>52.350</td>\n",
       "    </tr>\n",
       "  </tbody>\n",
       "</table>\n",
       "</div>"
      ],
      "text/plain": [
       "            Brand    Rating        Reviews   Price                 \n",
       "             size      mean median     sum     min     max   median\n",
       "Brand                                                              \n",
       "RAZER          18  3.875000    4.0    5827   25.46  236.99   79.990\n",
       "LOGITECH       22  4.181818    4.0    2522   39.88  199.99   95.375\n",
       "CORSAIR        24  3.882353    4.0    1290   29.99  128.33   79.990\n",
       "ROSEWILL        4  4.000000    4.0     828   15.99   20.99   19.490\n",
       "UTECHSMART      4  4.500000    4.5     492   29.99   49.99   39.990\n",
       "STEELSERIES    11  4.333333    4.0     390   39.75  213.00  107.990\n",
       "ASUS            9  4.142857    4.0     332   31.99  159.99   95.990\n",
       "ZALMAN          1  3.000000    3.0     170  149.98  149.98  149.980\n",
       "MIONIX          4  4.000000    4.0     138   51.00  165.99   84.990\n",
       "MAD CATZ        5  4.000000    4.0     104   45.99   86.78   52.350"
      ]
     },
     "execution_count": 10,
     "metadata": {},
     "output_type": "execute_result"
    }
   ],
   "source": [
    "mice_brand_reviews"
   ]
  },
  {
   "cell_type": "markdown",
   "metadata": {},
   "source": [
    "**Style**\n",
    "\n",
    "Obervations:\n",
    "- Most mice support more than one type of grip style or do not specify."
   ]
  },
  {
   "cell_type": "code",
   "execution_count": 11,
   "metadata": {},
   "outputs": [
    {
     "data": {
      "text/plain": [
       "Style\n",
       "Multiple       146\n",
       "Unspecified    118\n",
       "Palm            32\n",
       "Claw             8\n",
       "Fingertip        4\n",
       "dtype: int64"
      ]
     },
     "execution_count": 11,
     "metadata": {},
     "output_type": "execute_result"
    }
   ],
   "source": [
    "mice.groupby([mice['Style'].fillna('Unspecified')]).size().sort_values(ascending = False)"
   ]
  },
  {
   "cell_type": "markdown",
   "metadata": {},
   "source": [
    "**DPI**\n",
    "\n",
    "Observations:\n",
    "- Most maximum DPIs are between 3000-4000 (specifically 3200 and 4000).\n",
    "- Specific DPIs are likely industry standards and thus occur much more frequently than others. These include 3200, 4000, 12000 and 16000."
   ]
  },
  {
   "cell_type": "code",
   "execution_count": 12,
   "metadata": {},
   "outputs": [
    {
     "data": {
      "image/png": "[encoded data removed]",
      "text/plain": [
       "<Figure size 576x360 with 1 Axes>"
      ]
     },
     "metadata": {},
     "output_type": "display_data"
    }
   ],
   "source": [
    "fig=plt.figure(figsize=(8,5))\n",
    "plt.hist(mice['DPI'], bins=24)\n",
    "plt.xticks(np.arange(0, 25000, step=2000))\n",
    "plt.xlabel('Maximum DPI') \n",
    "plt.ylabel('Number of Products') \n",
    "plt.tight_layout()\n",
    "plt.savefig('DPI.png')\n",
    "plt.show()"
   ]
  },
  {
   "cell_type": "code",
   "execution_count": 13,
   "metadata": {},
   "outputs": [
    {
     "data": {
      "image/png": "[encoded data removed]",
      "text/plain": [
       "<Figure size 576x360 with 1 Axes>"
      ]
     },
     "metadata": {},
     "output_type": "display_data"
    }
   ],
   "source": [
    "fig=plt.figure(figsize=(8,5))\n",
    "mice.groupby('DPI')['Reviews'].sum().plot.bar()\n",
    "plt.xlabel('Maximum DPI') \n",
    "plt.ylabel('Number of Reviews')\n",
    "plt.tight_layout()\n",
    "fig.savefig('DPI2.png')\n",
    "plt.show()"
   ]
  },
  {
   "cell_type": "markdown",
   "metadata": {},
   "source": [
    "**Buttons**\n",
    "\n",
    "Observations:\n",
    "- Almost half of the mice have 6 buttons. \n",
    "- There is a drop in number of products with specifically 10 buttons. 9 and 11 buttons both have more than twice the number of products with 10 buttons."
   ]
  },
  {
   "cell_type": "code",
   "execution_count": 14,
   "metadata": {},
   "outputs": [
    {
     "data": {
      "image/png": "[encoded data removed]",
      "text/plain": [
       "<Figure size 576x360 with 1 Axes>"
      ]
     },
     "metadata": {},
     "output_type": "display_data"
    }
   ],
   "source": [
    "fig=plt.figure(figsize=(8,5))\n",
    "plt.hist(mice['Buttons'], bins=19)\n",
    "plt.xticks(np.arange(2, 20, step=1))\n",
    "plt.xlabel('Buttons') \n",
    "plt.ylabel('Number of Products') \n",
    "plt.tight_layout()\n",
    "fig.savefig('Button.png')\n",
    "plt.show()"
   ]
  },
  {
   "cell_type": "code",
   "execution_count": 15,
   "metadata": {},
   "outputs": [
    {
     "data": {
      "image/png": "[encoded data removed]",
      "text/plain": [
       "<Figure size 576x360 with 1 Axes>"
      ]
     },
     "metadata": {},
     "output_type": "display_data"
    }
   ],
   "source": [
    "fig=plt.figure(figsize=(8,5))\n",
    "mice.groupby('Buttons')['Reviews'].sum().plot.bar()\n",
    "plt.xlabel('Maximum DPI') \n",
    "plt.ylabel('Number of Reviews')\n",
    "plt.tight_layout()\n",
    "fig.savefig('Buttons2.png')\n",
    "plt.show()"
   ]
  },
  {
   "cell_type": "markdown",
   "metadata": {},
   "source": [
    "**Connection Type**\n",
    "\n",
    "Observations:\n",
    "- Around 80% of the gaming mice looked at use wired connection. Only 20% have wireless capabilities.\n",
    "- The min, max and mean price for wireless mice are all higher than wired, but not the median price.\n",
    "- Mean rating is slightly higher for wired mice over wireless. I believe for gaming purposes wired mice are generally better."
   ]
  },
  {
   "cell_type": "code",
   "execution_count": 16,
   "metadata": {},
   "outputs": [
    {
     "data": {
      "text/plain": [
       "Connection\n",
       "Wired          245\n",
       "Wireless        55\n",
       "Unspecified      8\n",
       "dtype: int64"
      ]
     },
     "execution_count": 16,
     "metadata": {},
     "output_type": "execute_result"
    }
   ],
   "source": [
    "mice.groupby([mice['Connection'].fillna('Unspecified')]).size().sort_values(ascending = False)"
   ]
  },
  {
   "cell_type": "code",
   "execution_count": 17,
   "metadata": {},
   "outputs": [
    {
     "data": {
      "image/png": "[encoded data removed]",
      "text/plain": [
       "<Figure size 576x216 with 1 Axes>"
      ]
     },
     "metadata": {},
     "output_type": "display_data"
    }
   ],
   "source": [
    "fig=plt.figure(figsize=(8,3))\n",
    "mice.groupby('Connection')['Connection'].count().plot.barh()\n",
    "plt.xlabel('Number of Products') \n",
    "plt.ylabel('Connection Type') \n",
    "plt.tight_layout()\n",
    "plt.savefig('Connection.png')\n",
    "plt.show()"
   ]
  },
  {
   "cell_type": "code",
   "execution_count": 18,
   "metadata": {},
   "outputs": [
    {
     "ename": "AttributeError",
     "evalue": "module 'matplotlib.pyplot' has no attribute 'label'",
     "output_type": "error",
     "traceback": [
      "\u001b[1;31m---------------------------------------------------------------------------\u001b[0m",
      "\u001b[1;31mAttributeError\u001b[0m                            Traceback (most recent call last)",
      "\u001b[1;32m<ipython-input-18-65eddac77261>\u001b[0m in \u001b[0;36m<module>\u001b[1;34m\u001b[0m\n\u001b[0;32m      2\u001b[0m \u001b[0mmice\u001b[0m\u001b[1;33m.\u001b[0m\u001b[0mgroupby\u001b[0m\u001b[1;33m(\u001b[0m\u001b[1;34m'Connection'\u001b[0m\u001b[1;33m)\u001b[0m\u001b[1;33m[\u001b[0m\u001b[1;34m'Reviews'\u001b[0m\u001b[1;33m]\u001b[0m\u001b[1;33m.\u001b[0m\u001b[0msum\u001b[0m\u001b[1;33m(\u001b[0m\u001b[1;33m)\u001b[0m\u001b[1;33m.\u001b[0m\u001b[0mplot\u001b[0m\u001b[1;33m.\u001b[0m\u001b[0mbarh\u001b[0m\u001b[1;33m(\u001b[0m\u001b[1;33m)\u001b[0m\u001b[1;33m\u001b[0m\u001b[1;33m\u001b[0m\u001b[0m\n\u001b[0;32m      3\u001b[0m \u001b[0mplt\u001b[0m\u001b[1;33m.\u001b[0m\u001b[0mylabel\u001b[0m\u001b[1;33m(\u001b[0m\u001b[1;34m'Connection Type'\u001b[0m\u001b[1;33m)\u001b[0m\u001b[1;33m\u001b[0m\u001b[1;33m\u001b[0m\u001b[0m\n\u001b[1;32m----> 4\u001b[1;33m \u001b[0mplt\u001b[0m\u001b[1;33m.\u001b[0m\u001b[0mlabel\u001b[0m\u001b[1;33m(\u001b[0m\u001b[1;34m'Number of Reviews'\u001b[0m\u001b[1;33m)\u001b[0m\u001b[1;33m\u001b[0m\u001b[1;33m\u001b[0m\u001b[0m\n\u001b[0m\u001b[0;32m      5\u001b[0m \u001b[0mplt\u001b[0m\u001b[1;33m.\u001b[0m\u001b[0mtight_layout\u001b[0m\u001b[1;33m(\u001b[0m\u001b[1;33m)\u001b[0m\u001b[1;33m\u001b[0m\u001b[1;33m\u001b[0m\u001b[0m\n\u001b[0;32m      6\u001b[0m \u001b[0mfig\u001b[0m\u001b[1;33m.\u001b[0m\u001b[0msavefig\u001b[0m\u001b[1;33m(\u001b[0m\u001b[1;34m'Connection2.png'\u001b[0m\u001b[1;33m)\u001b[0m\u001b[1;33m\u001b[0m\u001b[1;33m\u001b[0m\u001b[0m\n",
      "\u001b[1;31mAttributeError\u001b[0m: module 'matplotlib.pyplot' has no attribute 'label'"
     ]
    },
    {
     "data": {
      "image/png": "[encoded data removed]",
      "text/plain": [
       "<Figure size 576x216 with 1 Axes>"
      ]
     },
     "metadata": {},
     "output_type": "display_data"
    }
   ],
   "source": [
    "fig=plt.figure(figsize=(8,3))\n",
    "mice.groupby('Connection')['Reviews'].sum().plot.barh()\n",
    "plt.ylabel('Connection Type') \n",
    "plt.label('Number of Reviews')\n",
    "plt.tight_layout()\n",
    "fig.savefig('Connection2.png')\n",
    "plt.show()"
   ]
  },
  {
   "cell_type": "code",
   "execution_count": null,
   "metadata": {},
   "outputs": [],
   "source": [
    "mice.groupby('Connection').agg({'Price':['min','max', 'mean', 'median'], 'Rating':['mean']})"
   ]
  },
  {
   "cell_type": "markdown",
   "metadata": {},
   "source": [
    "**Color**\n",
    "\n",
    "Observations:\n",
    "- 224 out of 293 products are black or partially black.\n",
    "- Second highest color is white and only has 30 products."
   ]
  },
  {
   "cell_type": "code",
   "execution_count": null,
   "metadata": {},
   "outputs": [],
   "source": [
    "print(mice.groupby([mice['Color'].fillna('Unspecified')]).size().sort_values(ascending = False).head(5))\n",
    "print(len(mice[mice['Color'].str.contains('Black|black', na=False)]))\n",
    "mice.Color.count()"
   ]
  },
  {
   "cell_type": "code",
   "execution_count": null,
   "metadata": {},
   "outputs": [],
   "source": [
    "fig=plt.figure(figsize=(8,5))\n",
    "mice.groupby([mice['Color'].fillna('Unspecified')]).size().sort_values(ascending = False).head(5).plot.barh()\n",
    "plt.tight_layout()\n",
    "fig.savefig('Color.png')"
   ]
  },
  {
   "cell_type": "markdown",
   "metadata": {},
   "source": [
    "<p><a name=\"FP\"></a></p>\n",
    "\n",
    "### Factors Contributing to Price"
   ]
  },
  {
   "cell_type": "markdown",
   "metadata": {},
   "source": [
    "Observations:\n",
    "- Most mice are below 30 dollars. 153 out of 308 mice are below $30.\n",
    "- Generally positive correlations between DPI/Buttons to Price.\n",
    "- Based on correlation matrix, the DPI can be considered moderately correlated to Price where Buttons, Reviews and Rating have low or essentially no correlation."
   ]
  },
  {
   "cell_type": "code",
   "execution_count": null,
   "metadata": {},
   "outputs": [],
   "source": [
    "fig=plt.figure(figsize=(8,5))\n",
    "plt.hist(mice['Price'], bins=25)\n",
    "plt.xticks(np.arange(0, 250, step=25))\n",
    "plt.xlabel('Price') \n",
    "plt.ylabel('Number of Products') \n",
    "plt.tight_layout()\n",
    "fig.savefig('Price1.png')\n",
    "plt.show()\n",
    "\n",
    "print('Number of mice less than $30: ')\n",
    "print(mice[mice['Price']<30]['Price'].count())\n",
    "\n",
    "mice.Price.describe()"
   ]
  },
  {
   "cell_type": "code",
   "execution_count": null,
   "metadata": {},
   "outputs": [],
   "source": [
    "fig = sns.lmplot(x = \"DPI\", y=\"Price\", data=mice, height=5, aspect=2)\n",
    "plt.tight_layout()\n",
    "fig.savefig('Price2.png')"
   ]
  },
  {
   "cell_type": "code",
   "execution_count": null,
   "metadata": {},
   "outputs": [],
   "source": [
    "fig = sns.lmplot(x = \"Buttons\", y=\"Price\", data=mice, height=5, aspect=2)\n",
    "plt.tight_layout()\n",
    "fig.savefig('Price3.png')"
   ]
  },
  {
   "cell_type": "code",
   "execution_count": null,
   "metadata": {},
   "outputs": [],
   "source": [
    "fig=plt.figure(figsize=(16,5))\n",
    "sns.boxplot(x='DPI', y='Price', data=mice)"
   ]
  },
  {
   "cell_type": "code",
   "execution_count": null,
   "metadata": {},
   "outputs": [],
   "source": [
    "fig=plt.figure(figsize=(16,5))\n",
    "sns.boxplot(x='Buttons', y='Price', data=mice)"
   ]
  },
  {
   "cell_type": "markdown",
   "metadata": {},
   "source": [
    "<p><a name=\"FR\"></a></p>\n",
    "\n",
    "### Factors Contributing to Rating"
   ]
  },
  {
   "cell_type": "markdown",
   "metadata": {},
   "source": [
    "Observations:\n",
    "- 126 out of 147 mice are rated 4 stars and above. Not sure if Newegg manipulates any of the reviews but it appears that much more often than not, customers are satisfied with the product.\n",
    "- Very small observation correlation between DPI/Buttons to Rating. This perhaps makes sense since people know what they are buying so it would be strange to give a poor rating based on the customer's own decision based on DPI and number of buttons.\n",
    "- Based on correlation matrix, it appears that the DPI, Buttons, Reviews and Price all have low or essentially no correlation with Rating."
   ]
  },
  {
   "cell_type": "code",
   "execution_count": null,
   "metadata": {},
   "outputs": [],
   "source": [
    "fig=plt.figure(figsize=(8,5))\n",
    "mice.groupby('Rating')['Rating'].count().plot.bar()\n",
    "plt.ylabel('Number of Products')\n",
    "plt.tight_layout()\n",
    "fig.savefig('Rating1.png')\n",
    "plt.show()\n",
    "\n",
    "print('Number of mice rated 4 stars and above: ')\n",
    "print(mice[mice['Rating']>=4]['Rating'].count())\n",
    "\n",
    "mice.Rating.describe()"
   ]
  },
  {
   "cell_type": "code",
   "execution_count": null,
   "metadata": {},
   "outputs": [],
   "source": [
    "fig=plt.figure(figsize=(12,3))\n",
    "sns.boxplot(x='Reviews', y='Rating', data=mice)\n",
    "plt.ylabel('Rating')\n",
    "#plt.xticks(np.arange(0, 80, step=10))\n",
    "plt.tight_layout()\n",
    "fig.savefig('Rating2.png')\n",
    "plt.show()\n",
    "\n",
    "print('Number of mice rated 4 stars and above: ')\n",
    "print(mice[mice['Rating']>=4]['Rating'].count())\n",
    "\n",
    "mice.Rating.describe()"
   ]
  },
  {
   "cell_type": "code",
   "execution_count": null,
   "metadata": {},
   "outputs": [],
   "source": []
  },
  {
   "cell_type": "code",
   "execution_count": null,
   "metadata": {},
   "outputs": [],
   "source": [
    "sns.lmplot(x = \"DPI\", y=\"Rating\", data=mice, height=5, aspect=3)"
   ]
  },
  {
   "cell_type": "code",
   "execution_count": null,
   "metadata": {},
   "outputs": [],
   "source": [
    "sns.lmplot(x = \"Buttons\", y=\"Rating\", data=mice, height=5, aspect=3)"
   ]
  },
  {
   "cell_type": "markdown",
   "metadata": {},
   "source": [
    "<p><a name=\"CM\"></a></p>\n",
    "\n",
    "### Correlation Matrix"
   ]
  },
  {
   "cell_type": "code",
   "execution_count": null,
   "metadata": {},
   "outputs": [],
   "source": [
    "fig=plt.figure(figsize=(8,6))\n",
    "corrMatrix = mice.corr()\n",
    "sns.heatmap(corrMatrix, annot=True)\n",
    "plt.tight_layout()\n",
    "fig.savefig('Corr.png')\n",
    "plt.show()"
   ]
  },
  {
   "cell_type": "markdown",
   "metadata": {},
   "source": [
    "### Things to Note\n",
    "\n",
    "Rating is to the nearest star, not very good resolution.\n",
    "\n",
    "Information can be incorrect.\n",
    "\n",
    "Significant factors not looked at in project:\n",
    "- One of the biggest contributing factors is most likely RGB, but difficult to extract whether or not product has RGB.\n",
    "- Aesthetics. More \"gamer\" or futuristic aesthetics vs basic or more sleek designs. Secondary color.\n",
    "- Ergonomics/type of the mouse. For example there are mice that are vertical or are in the form factor of a gun.\n",
    "- Weight adjustability."
   ]
  },
  {
   "cell_type": "code",
   "execution_count": null,
   "metadata": {},
   "outputs": [],
   "source": []
  }
 ],
 "metadata": {
  "kernelspec": {
   "display_name": "Python 3",
   "language": "python",
   "name": "python3"
  },
  "language_info": {
   "codemirror_mode": {
    "name": "ipython",
    "version": 3
   },
   "file_extension": ".py",
   "mimetype": "text/x-python",
   "name": "python",
   "nbconvert_exporter": "python",
   "pygments_lexer": "ipython3",
   "version": "3.8.3"
  }
 },
 "nbformat": 4,
 "nbformat_minor": 4
}
